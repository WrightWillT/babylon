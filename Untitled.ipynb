{
 "cells": [
  {
   "cell_type": "markdown",
   "metadata": {},
   "source": [
    "# Project Babylon\n",
    "\n",
    "Purpose: create a tool that can synthesize a new name from any corpus.  Essentially, something that boils a corpus down to an essence (distribution of characters by position), then builds a word/name out of it.  \n",
    "\n",
    "I have no idea if it'll produce anything interesting, but this is the solution to how boring my current monster name generator is.  I saw the name \"Drog\" happen a few roles after seeing it once.  \n",
    "\n",
    "I'm curious to see how many permutations there are if all 26 characters were possible for a word that is n-characters long:"
   ]
  },
  {
   "cell_type": "code",
   "execution_count": 29,
   "metadata": {},
   "outputs": [
    {
     "name": "stdout",
     "output_type": "stream",
     "text": [
      "1\n",
      "26\n",
      "676\n",
      "17576\n",
      "456976\n",
      "11881376\n",
      "308915776\n",
      "8031810176\n",
      "208827064576\n",
      "5429503678976\n"
     ]
    }
   ],
   "source": [
    "n = 10\n",
    "for i in range(n):\n",
    "    print(26**i)"
   ]
  },
  {
   "cell_type": "markdown",
   "metadata": {},
   "source": [
    "Of course, many of those permutations won't be possible because they won't occur in the corpus.  For instance, a corpus might not have a 'z' as the second character or a 'q' as the 10th."
   ]
  },
  {
   "cell_type": "markdown",
   "metadata": {},
   "source": [
    "Let's see what kind of permutations are possible if we pick 5 letters at random.  We should expect a garble of nonsense that doesn't even resemble something we can pronounce. "
   ]
  },
  {
   "cell_type": "code",
   "execution_count": 27,
   "metadata": {},
   "outputs": [],
   "source": [
    "from string import ascii_lowercase\n",
    "from random import choice\n",
    "letters = ''.join([choice(ascii_lowercase) for _ in range(5)])"
   ]
  },
  {
   "cell_type": "code",
   "execution_count": 28,
   "metadata": {},
   "outputs": [
    {
     "name": "stdout",
     "output_type": "stream",
     "text": [
      "uvopf\n",
      "pxjaw\n",
      "qjlxn\n",
      "byxdz\n",
      "itiwb\n",
      "hkndy\n",
      "pvwln\n",
      "gdfeo\n",
      "lehbh\n",
      "knpri\n"
     ]
    }
   ],
   "source": [
    "for i in range(10):\n",
    "    letters = ''.join([choice(ascii_lowercase) for _ in range(5)])\n",
    "    print(letters)"
   ]
  },
  {
   "cell_type": "markdown",
   "metadata": {},
   "source": [
    "Gibberish.  However, if we choose each character by its likelihood in any position as well as with a weight for coming after the preceding character ('h' being more common after 't' and 's'), then we can hope to build words that seem to make sense.  Still, hard rules could be set where two constonant must have a vowel after unless those two exact preceeding characters occur in the corpus in a row. Something like that anway.  We'd want to have levers on the degrees of being one way or the other and test it out to get the frequencies right.\n",
    "\n",
    "You could even have it take another input aside from a corpus: sentiment.  So a user could type 'harry potter' and select 'negative sentiment' (or maybe 'magical' or 'creature' or 'female'?), but I'm getting ahead of myself."
   ]
  },
  {
   "cell_type": "code",
   "execution_count": null,
   "metadata": {},
   "outputs": [],
   "source": []
  }
 ],
 "metadata": {
  "kernelspec": {
   "display_name": "Python 3",
   "language": "python",
   "name": "python3"
  },
  "language_info": {
   "codemirror_mode": {
    "name": "ipython",
    "version": 3
   },
   "file_extension": ".py",
   "mimetype": "text/x-python",
   "name": "python",
   "nbconvert_exporter": "python",
   "pygments_lexer": "ipython3",
   "version": "3.7.1"
  }
 },
 "nbformat": 4,
 "nbformat_minor": 2
}
